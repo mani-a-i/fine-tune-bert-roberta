{
  "cells": [
    {
      "cell_type": "code",
      "execution_count": null,
      "metadata": {
        "id": "rchTIQrZZ2aJ"
      },
      "outputs": [],
      "source": [
        "!pip install -q transformers"
      ]
    },
    {
      "cell_type": "code",
      "source": [
        "from google.colab import drive\n",
        "drive.mount('/content/drive')"
      ],
      "metadata": {
        "colab": {
          "base_uri": "https://localhost:8080/"
        },
        "id": "GYB4mLhAB-2e",
        "outputId": "21e38a26-e7dc-4ead-e855-6bb97db53d44"
      },
      "execution_count": null,
      "outputs": [
        {
          "output_type": "stream",
          "name": "stdout",
          "text": [
            "Mounted at /content/drive\n"
          ]
        }
      ]
    },
    {
      "cell_type": "code",
      "execution_count": null,
      "metadata": {
        "id": "xebi1XcMZx7E"
      },
      "outputs": [],
      "source": [
        "import numpy as np\n",
        "import pandas as pd\n",
        "from sklearn import metrics\n",
        "import transformers\n",
        "import torch\n",
        "from torch.utils.data import Dataset, DataLoader, RandomSampler, SequentialSampler\n",
        "from transformers import RobertaTokenizer, RobertaModel\n",
        "from sklearn.model_selection import train_test_split\n"
      ]
    },
    {
      "cell_type": "code",
      "execution_count": null,
      "metadata": {
        "id": "xThStdg4Zx7G"
      },
      "outputs": [],
      "source": []
    },
    {
      "cell_type": "code",
      "execution_count": null,
      "metadata": {
        "id": "H9jQJxDfZx7G"
      },
      "outputs": [],
      "source": [
        "def OHE_split(split = False,reset_index = False):\n",
        "\n",
        "    data = pd.read_csv(\"/content/drive/MyDrive/mtsamples.csv\")\n",
        "    data.drop(['Unnamed: 0'],axis=1,inplace=True)\n",
        "\n",
        "\n",
        "    counts = data['medical_specialty'].value_counts()\n",
        "    others = [k for k,v in counts.items() if v<100]\n",
        "    # others\n",
        "\n",
        "    data = data[data['medical_specialty'].isin(others)]\n",
        "\n",
        "\n",
        "    counts = data['medical_specialty'].value_counts()\n",
        "    # print(counts)\n",
        "\n",
        "    num_classes = len(data['medical_specialty'].unique())\n",
        "    class_dict = dict(zip(data['medical_specialty'].unique(),list(range(num_classes))))\n",
        "    data['medical_specialty'] = data['medical_specialty'].apply(lambda x:class_dict[x])\n",
        "    data.dropna(inplace=True)\n",
        "    data['transcription'] = data['keywords']+data['transcription']\n",
        "    X = data[['transcription']]\n",
        "    y = data[[\"medical_specialty\"]]\n",
        "\n",
        "    df = pd.concat([X,y],axis=1)\n",
        "    df = df.rename(columns={\"medical_specialty\":\"list\"})\n",
        "\n",
        "\n",
        "\n",
        "    if split:\n",
        "        train_val, test = train_test_split(df, test_size=0.1, random_state=42)\n",
        "        train, val = train_test_split(train_val, test_size=0.1111, random_state=42)\n",
        "\n",
        "        if reset_index:\n",
        "            train = train.reset_index(drop=True)\n",
        "            test = test.reset_index(drop=True)\n",
        "            val = val.reset_index(drop=True)\n",
        "            return train, test, val    # ***** returns tuple ***********\n",
        "\n",
        "        else:\n",
        "            return train, test, val    # ***** returns tuple ***********\n",
        "\n",
        "    else:\n",
        "        return df"
      ]
    },
    {
      "cell_type": "code",
      "execution_count": null,
      "metadata": {
        "id": "eXyjT5TqEdo9"
      },
      "outputs": [],
      "source": []
    },
    {
      "cell_type": "code",
      "execution_count": null,
      "metadata": {
        "id": "uC3sIyw2Zx7G"
      },
      "outputs": [],
      "source": [
        "df = OHE_split(split=False)"
      ]
    },
    {
      "cell_type": "code",
      "execution_count": null,
      "metadata": {
        "colab": {
          "base_uri": "https://localhost:8080/",
          "height": 424
        },
        "id": "udYihQoPFFpA",
        "outputId": "db575496-df55-482b-b0a7-e809d20175c7"
      },
      "outputs": [
        {
          "output_type": "execute_result",
          "data": {
            "text/plain": [
              "                                          transcription  list\n",
              "0     allergy / immunology, allergic rhinitis, aller...     0\n",
              "1     bariatrics, laparoscopic gastric bypass, weigh...     1\n",
              "2     bariatrics, laparoscopic gastric bypass, heart...     1\n",
              "5     bariatrics, gastric bypass, eea anastomosis, r...     1\n",
              "6     bariatrics, breast reconstruction, excess, lma...     1\n",
              "...                                                 ...   ...\n",
              "4984  bariatrics, laparoscopic gastric bypass, gastr...     1\n",
              "4985  bariatrics, jenny craig, medifast, nutrisystem...     1\n",
              "4989  bariatrics, elective surgical weight loss, sur...     1\n",
              "4993  allergy / immunology, chronic glossitis, xeros...     0\n",
              "4995  allergy / immunology, mucous membranes, conjun...     0\n",
              "\n",
              "[811 rows x 2 columns]"
            ],
            "text/html": [
              "\n",
              "  <div id=\"df-5989c494-4e39-4699-ab08-87c7f6cf563d\" class=\"colab-df-container\">\n",
              "    <div>\n",
              "<style scoped>\n",
              "    .dataframe tbody tr th:only-of-type {\n",
              "        vertical-align: middle;\n",
              "    }\n",
              "\n",
              "    .dataframe tbody tr th {\n",
              "        vertical-align: top;\n",
              "    }\n",
              "\n",
              "    .dataframe thead th {\n",
              "        text-align: right;\n",
              "    }\n",
              "</style>\n",
              "<table border=\"1\" class=\"dataframe\">\n",
              "  <thead>\n",
              "    <tr style=\"text-align: right;\">\n",
              "      <th></th>\n",
              "      <th>transcription</th>\n",
              "      <th>list</th>\n",
              "    </tr>\n",
              "  </thead>\n",
              "  <tbody>\n",
              "    <tr>\n",
              "      <th>0</th>\n",
              "      <td>allergy / immunology, allergic rhinitis, aller...</td>\n",
              "      <td>0</td>\n",
              "    </tr>\n",
              "    <tr>\n",
              "      <th>1</th>\n",
              "      <td>bariatrics, laparoscopic gastric bypass, weigh...</td>\n",
              "      <td>1</td>\n",
              "    </tr>\n",
              "    <tr>\n",
              "      <th>2</th>\n",
              "      <td>bariatrics, laparoscopic gastric bypass, heart...</td>\n",
              "      <td>1</td>\n",
              "    </tr>\n",
              "    <tr>\n",
              "      <th>5</th>\n",
              "      <td>bariatrics, gastric bypass, eea anastomosis, r...</td>\n",
              "      <td>1</td>\n",
              "    </tr>\n",
              "    <tr>\n",
              "      <th>6</th>\n",
              "      <td>bariatrics, breast reconstruction, excess, lma...</td>\n",
              "      <td>1</td>\n",
              "    </tr>\n",
              "    <tr>\n",
              "      <th>...</th>\n",
              "      <td>...</td>\n",
              "      <td>...</td>\n",
              "    </tr>\n",
              "    <tr>\n",
              "      <th>4984</th>\n",
              "      <td>bariatrics, laparoscopic gastric bypass, gastr...</td>\n",
              "      <td>1</td>\n",
              "    </tr>\n",
              "    <tr>\n",
              "      <th>4985</th>\n",
              "      <td>bariatrics, jenny craig, medifast, nutrisystem...</td>\n",
              "      <td>1</td>\n",
              "    </tr>\n",
              "    <tr>\n",
              "      <th>4989</th>\n",
              "      <td>bariatrics, elective surgical weight loss, sur...</td>\n",
              "      <td>1</td>\n",
              "    </tr>\n",
              "    <tr>\n",
              "      <th>4993</th>\n",
              "      <td>allergy / immunology, chronic glossitis, xeros...</td>\n",
              "      <td>0</td>\n",
              "    </tr>\n",
              "    <tr>\n",
              "      <th>4995</th>\n",
              "      <td>allergy / immunology, mucous membranes, conjun...</td>\n",
              "      <td>0</td>\n",
              "    </tr>\n",
              "  </tbody>\n",
              "</table>\n",
              "<p>811 rows × 2 columns</p>\n",
              "</div>\n",
              "    <div class=\"colab-df-buttons\">\n",
              "\n",
              "  <div class=\"colab-df-container\">\n",
              "    <button class=\"colab-df-convert\" onclick=\"convertToInteractive('df-5989c494-4e39-4699-ab08-87c7f6cf563d')\"\n",
              "            title=\"Convert this dataframe to an interactive table.\"\n",
              "            style=\"display:none;\">\n",
              "\n",
              "  <svg xmlns=\"http://www.w3.org/2000/svg\" height=\"24px\" viewBox=\"0 -960 960 960\">\n",
              "    <path d=\"M120-120v-720h720v720H120Zm60-500h600v-160H180v160Zm220 220h160v-160H400v160Zm0 220h160v-160H400v160ZM180-400h160v-160H180v160Zm440 0h160v-160H620v160ZM180-180h160v-160H180v160Zm440 0h160v-160H620v160Z\"/>\n",
              "  </svg>\n",
              "    </button>\n",
              "\n",
              "  <style>\n",
              "    .colab-df-container {\n",
              "      display:flex;\n",
              "      gap: 12px;\n",
              "    }\n",
              "\n",
              "    .colab-df-convert {\n",
              "      background-color: #E8F0FE;\n",
              "      border: none;\n",
              "      border-radius: 50%;\n",
              "      cursor: pointer;\n",
              "      display: none;\n",
              "      fill: #1967D2;\n",
              "      height: 32px;\n",
              "      padding: 0 0 0 0;\n",
              "      width: 32px;\n",
              "    }\n",
              "\n",
              "    .colab-df-convert:hover {\n",
              "      background-color: #E2EBFA;\n",
              "      box-shadow: 0px 1px 2px rgba(60, 64, 67, 0.3), 0px 1px 3px 1px rgba(60, 64, 67, 0.15);\n",
              "      fill: #174EA6;\n",
              "    }\n",
              "\n",
              "    .colab-df-buttons div {\n",
              "      margin-bottom: 4px;\n",
              "    }\n",
              "\n",
              "    [theme=dark] .colab-df-convert {\n",
              "      background-color: #3B4455;\n",
              "      fill: #D2E3FC;\n",
              "    }\n",
              "\n",
              "    [theme=dark] .colab-df-convert:hover {\n",
              "      background-color: #434B5C;\n",
              "      box-shadow: 0px 1px 3px 1px rgba(0, 0, 0, 0.15);\n",
              "      filter: drop-shadow(0px 1px 2px rgba(0, 0, 0, 0.3));\n",
              "      fill: #FFFFFF;\n",
              "    }\n",
              "  </style>\n",
              "\n",
              "    <script>\n",
              "      const buttonEl =\n",
              "        document.querySelector('#df-5989c494-4e39-4699-ab08-87c7f6cf563d button.colab-df-convert');\n",
              "      buttonEl.style.display =\n",
              "        google.colab.kernel.accessAllowed ? 'block' : 'none';\n",
              "\n",
              "      async function convertToInteractive(key) {\n",
              "        const element = document.querySelector('#df-5989c494-4e39-4699-ab08-87c7f6cf563d');\n",
              "        const dataTable =\n",
              "          await google.colab.kernel.invokeFunction('convertToInteractive',\n",
              "                                                    [key], {});\n",
              "        if (!dataTable) return;\n",
              "\n",
              "        const docLinkHtml = 'Like what you see? Visit the ' +\n",
              "          '<a target=\"_blank\" href=https://colab.research.google.com/notebooks/data_table.ipynb>data table notebook</a>'\n",
              "          + ' to learn more about interactive tables.';\n",
              "        element.innerHTML = '';\n",
              "        dataTable['output_type'] = 'display_data';\n",
              "        await google.colab.output.renderOutput(dataTable, element);\n",
              "        const docLink = document.createElement('div');\n",
              "        docLink.innerHTML = docLinkHtml;\n",
              "        element.appendChild(docLink);\n",
              "      }\n",
              "    </script>\n",
              "  </div>\n",
              "\n",
              "\n",
              "<div id=\"df-2a434531-a2b0-4da1-87cf-1f8bfc9911b0\">\n",
              "  <button class=\"colab-df-quickchart\" onclick=\"quickchart('df-2a434531-a2b0-4da1-87cf-1f8bfc9911b0')\"\n",
              "            title=\"Suggest charts\"\n",
              "            style=\"display:none;\">\n",
              "\n",
              "<svg xmlns=\"http://www.w3.org/2000/svg\" height=\"24px\"viewBox=\"0 0 24 24\"\n",
              "     width=\"24px\">\n",
              "    <g>\n",
              "        <path d=\"M19 3H5c-1.1 0-2 .9-2 2v14c0 1.1.9 2 2 2h14c1.1 0 2-.9 2-2V5c0-1.1-.9-2-2-2zM9 17H7v-7h2v7zm4 0h-2V7h2v10zm4 0h-2v-4h2v4z\"/>\n",
              "    </g>\n",
              "</svg>\n",
              "  </button>\n",
              "\n",
              "<style>\n",
              "  .colab-df-quickchart {\n",
              "      --bg-color: #E8F0FE;\n",
              "      --fill-color: #1967D2;\n",
              "      --hover-bg-color: #E2EBFA;\n",
              "      --hover-fill-color: #174EA6;\n",
              "      --disabled-fill-color: #AAA;\n",
              "      --disabled-bg-color: #DDD;\n",
              "  }\n",
              "\n",
              "  [theme=dark] .colab-df-quickchart {\n",
              "      --bg-color: #3B4455;\n",
              "      --fill-color: #D2E3FC;\n",
              "      --hover-bg-color: #434B5C;\n",
              "      --hover-fill-color: #FFFFFF;\n",
              "      --disabled-bg-color: #3B4455;\n",
              "      --disabled-fill-color: #666;\n",
              "  }\n",
              "\n",
              "  .colab-df-quickchart {\n",
              "    background-color: var(--bg-color);\n",
              "    border: none;\n",
              "    border-radius: 50%;\n",
              "    cursor: pointer;\n",
              "    display: none;\n",
              "    fill: var(--fill-color);\n",
              "    height: 32px;\n",
              "    padding: 0;\n",
              "    width: 32px;\n",
              "  }\n",
              "\n",
              "  .colab-df-quickchart:hover {\n",
              "    background-color: var(--hover-bg-color);\n",
              "    box-shadow: 0 1px 2px rgba(60, 64, 67, 0.3), 0 1px 3px 1px rgba(60, 64, 67, 0.15);\n",
              "    fill: var(--button-hover-fill-color);\n",
              "  }\n",
              "\n",
              "  .colab-df-quickchart-complete:disabled,\n",
              "  .colab-df-quickchart-complete:disabled:hover {\n",
              "    background-color: var(--disabled-bg-color);\n",
              "    fill: var(--disabled-fill-color);\n",
              "    box-shadow: none;\n",
              "  }\n",
              "\n",
              "  .colab-df-spinner {\n",
              "    border: 2px solid var(--fill-color);\n",
              "    border-color: transparent;\n",
              "    border-bottom-color: var(--fill-color);\n",
              "    animation:\n",
              "      spin 1s steps(1) infinite;\n",
              "  }\n",
              "\n",
              "  @keyframes spin {\n",
              "    0% {\n",
              "      border-color: transparent;\n",
              "      border-bottom-color: var(--fill-color);\n",
              "      border-left-color: var(--fill-color);\n",
              "    }\n",
              "    20% {\n",
              "      border-color: transparent;\n",
              "      border-left-color: var(--fill-color);\n",
              "      border-top-color: var(--fill-color);\n",
              "    }\n",
              "    30% {\n",
              "      border-color: transparent;\n",
              "      border-left-color: var(--fill-color);\n",
              "      border-top-color: var(--fill-color);\n",
              "      border-right-color: var(--fill-color);\n",
              "    }\n",
              "    40% {\n",
              "      border-color: transparent;\n",
              "      border-right-color: var(--fill-color);\n",
              "      border-top-color: var(--fill-color);\n",
              "    }\n",
              "    60% {\n",
              "      border-color: transparent;\n",
              "      border-right-color: var(--fill-color);\n",
              "    }\n",
              "    80% {\n",
              "      border-color: transparent;\n",
              "      border-right-color: var(--fill-color);\n",
              "      border-bottom-color: var(--fill-color);\n",
              "    }\n",
              "    90% {\n",
              "      border-color: transparent;\n",
              "      border-bottom-color: var(--fill-color);\n",
              "    }\n",
              "  }\n",
              "</style>\n",
              "\n",
              "  <script>\n",
              "    async function quickchart(key) {\n",
              "      const quickchartButtonEl =\n",
              "        document.querySelector('#' + key + ' button');\n",
              "      quickchartButtonEl.disabled = true;  // To prevent multiple clicks.\n",
              "      quickchartButtonEl.classList.add('colab-df-spinner');\n",
              "      try {\n",
              "        const charts = await google.colab.kernel.invokeFunction(\n",
              "            'suggestCharts', [key], {});\n",
              "      } catch (error) {\n",
              "        console.error('Error during call to suggestCharts:', error);\n",
              "      }\n",
              "      quickchartButtonEl.classList.remove('colab-df-spinner');\n",
              "      quickchartButtonEl.classList.add('colab-df-quickchart-complete');\n",
              "    }\n",
              "    (() => {\n",
              "      let quickchartButtonEl =\n",
              "        document.querySelector('#df-2a434531-a2b0-4da1-87cf-1f8bfc9911b0 button');\n",
              "      quickchartButtonEl.style.display =\n",
              "        google.colab.kernel.accessAllowed ? 'block' : 'none';\n",
              "    })();\n",
              "  </script>\n",
              "</div>\n",
              "\n",
              "  <div id=\"id_30dbbf38-3117-4ef0-9535-76f3ff0af83d\">\n",
              "    <style>\n",
              "      .colab-df-generate {\n",
              "        background-color: #E8F0FE;\n",
              "        border: none;\n",
              "        border-radius: 50%;\n",
              "        cursor: pointer;\n",
              "        display: none;\n",
              "        fill: #1967D2;\n",
              "        height: 32px;\n",
              "        padding: 0 0 0 0;\n",
              "        width: 32px;\n",
              "      }\n",
              "\n",
              "      .colab-df-generate:hover {\n",
              "        background-color: #E2EBFA;\n",
              "        box-shadow: 0px 1px 2px rgba(60, 64, 67, 0.3), 0px 1px 3px 1px rgba(60, 64, 67, 0.15);\n",
              "        fill: #174EA6;\n",
              "      }\n",
              "\n",
              "      [theme=dark] .colab-df-generate {\n",
              "        background-color: #3B4455;\n",
              "        fill: #D2E3FC;\n",
              "      }\n",
              "\n",
              "      [theme=dark] .colab-df-generate:hover {\n",
              "        background-color: #434B5C;\n",
              "        box-shadow: 0px 1px 3px 1px rgba(0, 0, 0, 0.15);\n",
              "        filter: drop-shadow(0px 1px 2px rgba(0, 0, 0, 0.3));\n",
              "        fill: #FFFFFF;\n",
              "      }\n",
              "    </style>\n",
              "    <button class=\"colab-df-generate\" onclick=\"generateWithVariable('df')\"\n",
              "            title=\"Generate code using this dataframe.\"\n",
              "            style=\"display:none;\">\n",
              "\n",
              "  <svg xmlns=\"http://www.w3.org/2000/svg\" height=\"24px\"viewBox=\"0 0 24 24\"\n",
              "       width=\"24px\">\n",
              "    <path d=\"M7,19H8.4L18.45,9,17,7.55,7,17.6ZM5,21V16.75L18.45,3.32a2,2,0,0,1,2.83,0l1.4,1.43a1.91,1.91,0,0,1,.58,1.4,1.91,1.91,0,0,1-.58,1.4L9.25,21ZM18.45,9,17,7.55Zm-12,3A5.31,5.31,0,0,0,4.9,8.1,5.31,5.31,0,0,0,1,6.5,5.31,5.31,0,0,0,4.9,4.9,5.31,5.31,0,0,0,6.5,1,5.31,5.31,0,0,0,8.1,4.9,5.31,5.31,0,0,0,12,6.5,5.46,5.46,0,0,0,6.5,12Z\"/>\n",
              "  </svg>\n",
              "    </button>\n",
              "    <script>\n",
              "      (() => {\n",
              "      const buttonEl =\n",
              "        document.querySelector('#id_30dbbf38-3117-4ef0-9535-76f3ff0af83d button.colab-df-generate');\n",
              "      buttonEl.style.display =\n",
              "        google.colab.kernel.accessAllowed ? 'block' : 'none';\n",
              "\n",
              "      buttonEl.onclick = () => {\n",
              "        google.colab.notebook.generateWithVariable('df');\n",
              "      }\n",
              "      })();\n",
              "    </script>\n",
              "  </div>\n",
              "\n",
              "    </div>\n",
              "  </div>\n"
            ],
            "application/vnd.google.colaboratory.intrinsic+json": {
              "type": "dataframe",
              "variable_name": "df",
              "summary": "{\n  \"name\": \"df\",\n  \"rows\": 811,\n  \"fields\": [\n    {\n      \"column\": \"transcription\",\n      \"properties\": {\n        \"dtype\": \"string\",\n        \"samples\": [\n          \"emergency room reports, er, uri, emergency room, upper respiratory infection, respiratory, sick, fever, chest,HISTORY OF PRESENT ILLNESS:,  The patient is a two-and-a-half-month-old male who has been sick for the past three to four days.  His mother has described congested sounds with cough and decreased appetite.  He has had no fever.  He has had no rhinorrhea.  Nobody else at home is currently ill.  He has no cigarette smoke exposure.  She brought him to the emergency room this morning after a bad coughing spell.  He did not have any apnea during this episode.,PAST MEDICAL HISTORY:,  Unremarkable.  He has had his two-month immunizations.,PHYSICAL EXAMINATION:,VITAL SIGNS:  Temperature 99.1, oxygen saturations 98%, respirations by the nurse at 64, however, at my examination was much slower and regular in the 40s.,GENERAL:  Sleeping, easily aroused, smiling, and in no distress.,HEENT:  Soft anterior fontanelle.  TMs are normal.  Moist mucous membranes.,LUNGS:  Equal and clear.,CHEST:  Without retraction.,HEART:  Regular in rate and rhythm without murmur.,ABDOMEN:  Benign.,DIAGNOSTIC STUDIES:,  Chest x-ray ordered by ER physician is unremarkable, but to me also.,ASSESSMENT:,  Upper respiratory infection.,TREATMENT: , Use the bulb syringe and saline nose drops if there is any mucus in the anterior nares.  Smaller but more frequent feeds.  Discuss proper sleeping position.  Recheck if there is any fever or if he is no better in the next three days.\",\n          \"office notes, orthostatic hypotension, bradycardia, basal cell ganglia cerebrovascular event, renal osteodystrophy, dizziness, disequilibrium, telemetry monitoring, DIAGNOSES PROBLEMS:,1.  Orthostatic hypotension.,2.  Bradycardia.,3.  Diabetes.,4.  Status post renal transplant secondary polycystic kidney disease in 1995.,5.  Hypertension.,6.  History of basal cell ganglia cerebrovascular event in 2004 with left residual.,7.  History of renal osteodystrophy.,8.  Iron deficiency anemia.,9.  Cataract status post cataract surgery.,10.  Chronic left lower extremity pain.,11.  Hyperlipidemia.,12.  Status post hysterectomy secondary to uterine fibroids.,PROCEDURES:,  Telemetry monitoring.,HISTORY FINDINGS HOSPITAL COURSE: , The patient was originally hospitalized on 04/26/07, secondary to dizziness and disequilibrium.  Extensive workup during her first hospitalization was all negative, but a prominent feature was her very blunted affect and real anhedonia.  She was transferred briefly to Psychiatry, however, on the second day in Psychiatry, she became very orthostatic and was transferred acutely back to the medicine.  She briefly was on Cymbalta; however, this was discontinued when she was transferred back.  She was monitored back medicine for 24 hours and was given intravenous fluids and these were discontinued.  She was able to maintain her pressures then was able to ambulate without difficulty.  We had wanted to pursue workup for possible causes for autonomic dysfunction; however, the patient was not interested in remaining in the hospital anymore and left really against our recommendations.,DISCHARGE MEDICATIONS:,1.  CellCept - 500 mg twice a daily.,2.  Cyclosporine - 25 mg in the morning and 15 mg in the evening.,3.  Prednisone - 5 mg once daily.,4.  Hydralazine - 10 mg four times a day.,5.  Pantoprazole - 40 mg once daily.,6.  Glipizide - 5 mg every morning.,7.  Aspirin - 81 mg once daily.,FOLLOWUP CARE:  ,The patient is to follow up with Dr. X in about 1 week's time.\",\n          \"ophthalmology, retinal periphery, ophthalmoscopy, scleral, buckle, operating, anesthesiaNOTE,: Thesetranscribed medical transcription sample reports and examples are provided by various users andare for reference purpose only. MTHelpLine does not certify accuracy and quality of sample reports.These transcribed medical transcription sample reports may include some uncommon or unusual formats;this would be due to the preference of the dictating physician. All names and dates have beenchanged (or removed) to keep confidentiality. Any resemblance of any type of name or date orplace or anything else to real world is purely incidental.PROCEDURE IN DETAIL:,  After appropriate operative consent was obtained, the patient was brought supine to the operating room and placed on the operating room table.  After intravenous sedation was administered a retrobulbar block consisting of 2% Xylocaine with 0.75% Marcaine and Wydase was administered to the right eye without difficulty.  The patient's right eye was prepped and draped in a sterile ophthalmic fashion and the procedure begun.  A wire lid speculum was inserted into the right eye and a 360-degree conjunctival peritomy was performed at the limbus.  The 4 rectus muscles were looped and isolated using 2-0 silk suture.  The retinal periphery was then inspected via indirect ophthalmoscopy.,\"\n        ],\n        \"num_unique_values\": 808,\n        \"semantic_type\": \"\",\n        \"description\": \"\"\n      }\n    },\n    {\n      \"column\": \"list\",\n      \"properties\": {\n        \"dtype\": \"number\",\n        \"std\": 6,\n        \"min\": 0,\n        \"max\": 26,\n        \"samples\": [\n          8,\n          13,\n          9\n        ],\n        \"num_unique_values\": 27,\n        \"semantic_type\": \"\",\n        \"description\": \"\"\n      }\n    }\n  ]\n}"
            }
          },
          "metadata": {},
          "execution_count": 58
        }
      ],
      "source": [
        "df"
      ]
    },
    {
      "cell_type": "markdown",
      "metadata": {
        "id": "392ui1ohZx7H"
      },
      "source": [
        "#### 65.103% of Data is less than 512 words"
      ]
    },
    {
      "cell_type": "code",
      "execution_count": null,
      "metadata": {
        "id": "3xyDQzvCE8Tn"
      },
      "outputs": [],
      "source": []
    },
    {
      "cell_type": "code",
      "execution_count": null,
      "metadata": {
        "colab": {
          "base_uri": "https://localhost:8080/"
        },
        "id": "5TAil82rZx7I",
        "outputId": "db9106bf-c005-4f51-d05c-5f14f13e4b5a"
      },
      "outputs": [
        {
          "output_type": "execute_result",
          "data": {
            "text/plain": [
              "71.39334155363748"
            ]
          },
          "metadata": {},
          "execution_count": 59
        }
      ],
      "source": [
        "sum(df['transcription'].str.split().str.len() < 512)/len(df) *100"
      ]
    },
    {
      "cell_type": "code",
      "execution_count": null,
      "metadata": {
        "colab": {
          "base_uri": "https://localhost:8080/"
        },
        "id": "uCuiD5-uZx7I",
        "outputId": "670978c7-b9e1-46f5-9a3f-286691d91bcf"
      },
      "outputs": [
        {
          "output_type": "stream",
          "name": "stdout",
          "text": [
            "(648, 2)\n",
            "(82, 2)\n",
            "(81, 2)\n"
          ]
        }
      ],
      "source": [
        "train,test,val= OHE_split(split=True,reset_index=True)\n",
        "print(train.shape)\n",
        "print(test.shape)\n",
        "print(val.shape)"
      ]
    },
    {
      "cell_type": "code",
      "execution_count": null,
      "metadata": {
        "colab": {
          "base_uri": "https://localhost:8080/",
          "height": 424
        },
        "id": "2FCwKvTTEaX8",
        "outputId": "7ae2eb6a-3d40-4d3a-eee5-e350e8dd74a9"
      },
      "outputs": [
        {
          "output_type": "execute_result",
          "data": {
            "text/plain": [
              "                                        transcription  list\n",
              "0   physical medicine - rehab, emg, nerve conducti...     8\n",
              "1   nephrology, end-stage renal disease, av fistul...    14\n",
              "2   ent - otolaryngology, bilateral myringotomies,...    20\n",
              "3   neurosurgery, thoracic right-sided discectomy,...    13\n",
              "4   ophthalmology, entropion, blepharon, catgut su...    11\n",
              "..                                                ...   ...\n",
              "76  letters, cardiovascular, letter, angioedema, b...    15\n",
              "77  nephrology, nephrolithiasis, septic, lithotrip...    14\n",
              "78  hematology - oncology, chemo, taxol, intraperi...    19\n",
              "79  rheumatology, ra, rheumatoid arthritis, joint ...     5\n",
              "80  pediatrics - neonatal, mediastinal exploration...     9\n",
              "\n",
              "[81 rows x 2 columns]"
            ],
            "text/html": [
              "\n",
              "  <div id=\"df-5e7fd705-f809-4a71-a1c0-10cfd88082ad\" class=\"colab-df-container\">\n",
              "    <div>\n",
              "<style scoped>\n",
              "    .dataframe tbody tr th:only-of-type {\n",
              "        vertical-align: middle;\n",
              "    }\n",
              "\n",
              "    .dataframe tbody tr th {\n",
              "        vertical-align: top;\n",
              "    }\n",
              "\n",
              "    .dataframe thead th {\n",
              "        text-align: right;\n",
              "    }\n",
              "</style>\n",
              "<table border=\"1\" class=\"dataframe\">\n",
              "  <thead>\n",
              "    <tr style=\"text-align: right;\">\n",
              "      <th></th>\n",
              "      <th>transcription</th>\n",
              "      <th>list</th>\n",
              "    </tr>\n",
              "  </thead>\n",
              "  <tbody>\n",
              "    <tr>\n",
              "      <th>0</th>\n",
              "      <td>physical medicine - rehab, emg, nerve conducti...</td>\n",
              "      <td>8</td>\n",
              "    </tr>\n",
              "    <tr>\n",
              "      <th>1</th>\n",
              "      <td>nephrology, end-stage renal disease, av fistul...</td>\n",
              "      <td>14</td>\n",
              "    </tr>\n",
              "    <tr>\n",
              "      <th>2</th>\n",
              "      <td>ent - otolaryngology, bilateral myringotomies,...</td>\n",
              "      <td>20</td>\n",
              "    </tr>\n",
              "    <tr>\n",
              "      <th>3</th>\n",
              "      <td>neurosurgery, thoracic right-sided discectomy,...</td>\n",
              "      <td>13</td>\n",
              "    </tr>\n",
              "    <tr>\n",
              "      <th>4</th>\n",
              "      <td>ophthalmology, entropion, blepharon, catgut su...</td>\n",
              "      <td>11</td>\n",
              "    </tr>\n",
              "    <tr>\n",
              "      <th>...</th>\n",
              "      <td>...</td>\n",
              "      <td>...</td>\n",
              "    </tr>\n",
              "    <tr>\n",
              "      <th>76</th>\n",
              "      <td>letters, cardiovascular, letter, angioedema, b...</td>\n",
              "      <td>15</td>\n",
              "    </tr>\n",
              "    <tr>\n",
              "      <th>77</th>\n",
              "      <td>nephrology, nephrolithiasis, septic, lithotrip...</td>\n",
              "      <td>14</td>\n",
              "    </tr>\n",
              "    <tr>\n",
              "      <th>78</th>\n",
              "      <td>hematology - oncology, chemo, taxol, intraperi...</td>\n",
              "      <td>19</td>\n",
              "    </tr>\n",
              "    <tr>\n",
              "      <th>79</th>\n",
              "      <td>rheumatology, ra, rheumatoid arthritis, joint ...</td>\n",
              "      <td>5</td>\n",
              "    </tr>\n",
              "    <tr>\n",
              "      <th>80</th>\n",
              "      <td>pediatrics - neonatal, mediastinal exploration...</td>\n",
              "      <td>9</td>\n",
              "    </tr>\n",
              "  </tbody>\n",
              "</table>\n",
              "<p>81 rows × 2 columns</p>\n",
              "</div>\n",
              "    <div class=\"colab-df-buttons\">\n",
              "\n",
              "  <div class=\"colab-df-container\">\n",
              "    <button class=\"colab-df-convert\" onclick=\"convertToInteractive('df-5e7fd705-f809-4a71-a1c0-10cfd88082ad')\"\n",
              "            title=\"Convert this dataframe to an interactive table.\"\n",
              "            style=\"display:none;\">\n",
              "\n",
              "  <svg xmlns=\"http://www.w3.org/2000/svg\" height=\"24px\" viewBox=\"0 -960 960 960\">\n",
              "    <path d=\"M120-120v-720h720v720H120Zm60-500h600v-160H180v160Zm220 220h160v-160H400v160Zm0 220h160v-160H400v160ZM180-400h160v-160H180v160Zm440 0h160v-160H620v160ZM180-180h160v-160H180v160Zm440 0h160v-160H620v160Z\"/>\n",
              "  </svg>\n",
              "    </button>\n",
              "\n",
              "  <style>\n",
              "    .colab-df-container {\n",
              "      display:flex;\n",
              "      gap: 12px;\n",
              "    }\n",
              "\n",
              "    .colab-df-convert {\n",
              "      background-color: #E8F0FE;\n",
              "      border: none;\n",
              "      border-radius: 50%;\n",
              "      cursor: pointer;\n",
              "      display: none;\n",
              "      fill: #1967D2;\n",
              "      height: 32px;\n",
              "      padding: 0 0 0 0;\n",
              "      width: 32px;\n",
              "    }\n",
              "\n",
              "    .colab-df-convert:hover {\n",
              "      background-color: #E2EBFA;\n",
              "      box-shadow: 0px 1px 2px rgba(60, 64, 67, 0.3), 0px 1px 3px 1px rgba(60, 64, 67, 0.15);\n",
              "      fill: #174EA6;\n",
              "    }\n",
              "\n",
              "    .colab-df-buttons div {\n",
              "      margin-bottom: 4px;\n",
              "    }\n",
              "\n",
              "    [theme=dark] .colab-df-convert {\n",
              "      background-color: #3B4455;\n",
              "      fill: #D2E3FC;\n",
              "    }\n",
              "\n",
              "    [theme=dark] .colab-df-convert:hover {\n",
              "      background-color: #434B5C;\n",
              "      box-shadow: 0px 1px 3px 1px rgba(0, 0, 0, 0.15);\n",
              "      filter: drop-shadow(0px 1px 2px rgba(0, 0, 0, 0.3));\n",
              "      fill: #FFFFFF;\n",
              "    }\n",
              "  </style>\n",
              "\n",
              "    <script>\n",
              "      const buttonEl =\n",
              "        document.querySelector('#df-5e7fd705-f809-4a71-a1c0-10cfd88082ad button.colab-df-convert');\n",
              "      buttonEl.style.display =\n",
              "        google.colab.kernel.accessAllowed ? 'block' : 'none';\n",
              "\n",
              "      async function convertToInteractive(key) {\n",
              "        const element = document.querySelector('#df-5e7fd705-f809-4a71-a1c0-10cfd88082ad');\n",
              "        const dataTable =\n",
              "          await google.colab.kernel.invokeFunction('convertToInteractive',\n",
              "                                                    [key], {});\n",
              "        if (!dataTable) return;\n",
              "\n",
              "        const docLinkHtml = 'Like what you see? Visit the ' +\n",
              "          '<a target=\"_blank\" href=https://colab.research.google.com/notebooks/data_table.ipynb>data table notebook</a>'\n",
              "          + ' to learn more about interactive tables.';\n",
              "        element.innerHTML = '';\n",
              "        dataTable['output_type'] = 'display_data';\n",
              "        await google.colab.output.renderOutput(dataTable, element);\n",
              "        const docLink = document.createElement('div');\n",
              "        docLink.innerHTML = docLinkHtml;\n",
              "        element.appendChild(docLink);\n",
              "      }\n",
              "    </script>\n",
              "  </div>\n",
              "\n",
              "\n",
              "<div id=\"df-a28592d3-7c42-406a-870b-4f1cd10dc78d\">\n",
              "  <button class=\"colab-df-quickchart\" onclick=\"quickchart('df-a28592d3-7c42-406a-870b-4f1cd10dc78d')\"\n",
              "            title=\"Suggest charts\"\n",
              "            style=\"display:none;\">\n",
              "\n",
              "<svg xmlns=\"http://www.w3.org/2000/svg\" height=\"24px\"viewBox=\"0 0 24 24\"\n",
              "     width=\"24px\">\n",
              "    <g>\n",
              "        <path d=\"M19 3H5c-1.1 0-2 .9-2 2v14c0 1.1.9 2 2 2h14c1.1 0 2-.9 2-2V5c0-1.1-.9-2-2-2zM9 17H7v-7h2v7zm4 0h-2V7h2v10zm4 0h-2v-4h2v4z\"/>\n",
              "    </g>\n",
              "</svg>\n",
              "  </button>\n",
              "\n",
              "<style>\n",
              "  .colab-df-quickchart {\n",
              "      --bg-color: #E8F0FE;\n",
              "      --fill-color: #1967D2;\n",
              "      --hover-bg-color: #E2EBFA;\n",
              "      --hover-fill-color: #174EA6;\n",
              "      --disabled-fill-color: #AAA;\n",
              "      --disabled-bg-color: #DDD;\n",
              "  }\n",
              "\n",
              "  [theme=dark] .colab-df-quickchart {\n",
              "      --bg-color: #3B4455;\n",
              "      --fill-color: #D2E3FC;\n",
              "      --hover-bg-color: #434B5C;\n",
              "      --hover-fill-color: #FFFFFF;\n",
              "      --disabled-bg-color: #3B4455;\n",
              "      --disabled-fill-color: #666;\n",
              "  }\n",
              "\n",
              "  .colab-df-quickchart {\n",
              "    background-color: var(--bg-color);\n",
              "    border: none;\n",
              "    border-radius: 50%;\n",
              "    cursor: pointer;\n",
              "    display: none;\n",
              "    fill: var(--fill-color);\n",
              "    height: 32px;\n",
              "    padding: 0;\n",
              "    width: 32px;\n",
              "  }\n",
              "\n",
              "  .colab-df-quickchart:hover {\n",
              "    background-color: var(--hover-bg-color);\n",
              "    box-shadow: 0 1px 2px rgba(60, 64, 67, 0.3), 0 1px 3px 1px rgba(60, 64, 67, 0.15);\n",
              "    fill: var(--button-hover-fill-color);\n",
              "  }\n",
              "\n",
              "  .colab-df-quickchart-complete:disabled,\n",
              "  .colab-df-quickchart-complete:disabled:hover {\n",
              "    background-color: var(--disabled-bg-color);\n",
              "    fill: var(--disabled-fill-color);\n",
              "    box-shadow: none;\n",
              "  }\n",
              "\n",
              "  .colab-df-spinner {\n",
              "    border: 2px solid var(--fill-color);\n",
              "    border-color: transparent;\n",
              "    border-bottom-color: var(--fill-color);\n",
              "    animation:\n",
              "      spin 1s steps(1) infinite;\n",
              "  }\n",
              "\n",
              "  @keyframes spin {\n",
              "    0% {\n",
              "      border-color: transparent;\n",
              "      border-bottom-color: var(--fill-color);\n",
              "      border-left-color: var(--fill-color);\n",
              "    }\n",
              "    20% {\n",
              "      border-color: transparent;\n",
              "      border-left-color: var(--fill-color);\n",
              "      border-top-color: var(--fill-color);\n",
              "    }\n",
              "    30% {\n",
              "      border-color: transparent;\n",
              "      border-left-color: var(--fill-color);\n",
              "      border-top-color: var(--fill-color);\n",
              "      border-right-color: var(--fill-color);\n",
              "    }\n",
              "    40% {\n",
              "      border-color: transparent;\n",
              "      border-right-color: var(--fill-color);\n",
              "      border-top-color: var(--fill-color);\n",
              "    }\n",
              "    60% {\n",
              "      border-color: transparent;\n",
              "      border-right-color: var(--fill-color);\n",
              "    }\n",
              "    80% {\n",
              "      border-color: transparent;\n",
              "      border-right-color: var(--fill-color);\n",
              "      border-bottom-color: var(--fill-color);\n",
              "    }\n",
              "    90% {\n",
              "      border-color: transparent;\n",
              "      border-bottom-color: var(--fill-color);\n",
              "    }\n",
              "  }\n",
              "</style>\n",
              "\n",
              "  <script>\n",
              "    async function quickchart(key) {\n",
              "      const quickchartButtonEl =\n",
              "        document.querySelector('#' + key + ' button');\n",
              "      quickchartButtonEl.disabled = true;  // To prevent multiple clicks.\n",
              "      quickchartButtonEl.classList.add('colab-df-spinner');\n",
              "      try {\n",
              "        const charts = await google.colab.kernel.invokeFunction(\n",
              "            'suggestCharts', [key], {});\n",
              "      } catch (error) {\n",
              "        console.error('Error during call to suggestCharts:', error);\n",
              "      }\n",
              "      quickchartButtonEl.classList.remove('colab-df-spinner');\n",
              "      quickchartButtonEl.classList.add('colab-df-quickchart-complete');\n",
              "    }\n",
              "    (() => {\n",
              "      let quickchartButtonEl =\n",
              "        document.querySelector('#df-a28592d3-7c42-406a-870b-4f1cd10dc78d button');\n",
              "      quickchartButtonEl.style.display =\n",
              "        google.colab.kernel.accessAllowed ? 'block' : 'none';\n",
              "    })();\n",
              "  </script>\n",
              "</div>\n",
              "\n",
              "  <div id=\"id_8c464ad6-5ced-46e9-b9d8-6fe6527812b1\">\n",
              "    <style>\n",
              "      .colab-df-generate {\n",
              "        background-color: #E8F0FE;\n",
              "        border: none;\n",
              "        border-radius: 50%;\n",
              "        cursor: pointer;\n",
              "        display: none;\n",
              "        fill: #1967D2;\n",
              "        height: 32px;\n",
              "        padding: 0 0 0 0;\n",
              "        width: 32px;\n",
              "      }\n",
              "\n",
              "      .colab-df-generate:hover {\n",
              "        background-color: #E2EBFA;\n",
              "        box-shadow: 0px 1px 2px rgba(60, 64, 67, 0.3), 0px 1px 3px 1px rgba(60, 64, 67, 0.15);\n",
              "        fill: #174EA6;\n",
              "      }\n",
              "\n",
              "      [theme=dark] .colab-df-generate {\n",
              "        background-color: #3B4455;\n",
              "        fill: #D2E3FC;\n",
              "      }\n",
              "\n",
              "      [theme=dark] .colab-df-generate:hover {\n",
              "        background-color: #434B5C;\n",
              "        box-shadow: 0px 1px 3px 1px rgba(0, 0, 0, 0.15);\n",
              "        filter: drop-shadow(0px 1px 2px rgba(0, 0, 0, 0.3));\n",
              "        fill: #FFFFFF;\n",
              "      }\n",
              "    </style>\n",
              "    <button class=\"colab-df-generate\" onclick=\"generateWithVariable('val')\"\n",
              "            title=\"Generate code using this dataframe.\"\n",
              "            style=\"display:none;\">\n",
              "\n",
              "  <svg xmlns=\"http://www.w3.org/2000/svg\" height=\"24px\"viewBox=\"0 0 24 24\"\n",
              "       width=\"24px\">\n",
              "    <path d=\"M7,19H8.4L18.45,9,17,7.55,7,17.6ZM5,21V16.75L18.45,3.32a2,2,0,0,1,2.83,0l1.4,1.43a1.91,1.91,0,0,1,.58,1.4,1.91,1.91,0,0,1-.58,1.4L9.25,21ZM18.45,9,17,7.55Zm-12,3A5.31,5.31,0,0,0,4.9,8.1,5.31,5.31,0,0,0,1,6.5,5.31,5.31,0,0,0,4.9,4.9,5.31,5.31,0,0,0,6.5,1,5.31,5.31,0,0,0,8.1,4.9,5.31,5.31,0,0,0,12,6.5,5.46,5.46,0,0,0,6.5,12Z\"/>\n",
              "  </svg>\n",
              "    </button>\n",
              "    <script>\n",
              "      (() => {\n",
              "      const buttonEl =\n",
              "        document.querySelector('#id_8c464ad6-5ced-46e9-b9d8-6fe6527812b1 button.colab-df-generate');\n",
              "      buttonEl.style.display =\n",
              "        google.colab.kernel.accessAllowed ? 'block' : 'none';\n",
              "\n",
              "      buttonEl.onclick = () => {\n",
              "        google.colab.notebook.generateWithVariable('val');\n",
              "      }\n",
              "      })();\n",
              "    </script>\n",
              "  </div>\n",
              "\n",
              "    </div>\n",
              "  </div>\n"
            ],
            "application/vnd.google.colaboratory.intrinsic+json": {
              "type": "dataframe",
              "variable_name": "val",
              "summary": "{\n  \"name\": \"val\",\n  \"rows\": 81,\n  \"fields\": [\n    {\n      \"column\": \"transcription\",\n      \"properties\": {\n        \"dtype\": \"string\",\n        \"samples\": [\n          \"cosmetic / plastic surgery, ageing face, adaptic polysporin ointment, autologous fat injection, bovie cautery, kerlix wrap, smas plication, arcus marginalis, blepharoplasty, facelift, platysmal sling, quadrilateral, rhytidectomy, right upper lid, cervical facial rhytidectomy, pinpoint cautery, facial rhytidectomy, quadrilateral blepharoplasty, running nylon, autologous, PREOPERATIVE DIAGNOSIS:,  Ageing face.,POSTOPERATIVE DIAGNOSIS: , Ageing face.,OPERATIVE PROCEDURE:,1.  Cervical facial rhytidectomy.,2.  Quadrilateral blepharoplasty.,3.  Autologous fat injection to the upper lip.,OPERATIONS PERFORMED:,1.  Cervical facial rhytidectomy.,2.  Quadrilateral blepharoplasty.,3.  Autologous fat injection to the upper lip - donor site, abdomen.,INDICATION:  ,This is a 62-year-old female for the above-planned procedure.  She was seen in the preoperative holding area where the surgery was discussed accordingly and markings were applied.  Full informed consent noted and chemistries were on her chart and preoperative evaluation was negative.,PROCEDURE: , The patient was brought to the operative room under satisfaction, and she was placed supine on the OR table.  Administered general endotracheal anesthesia followed by sterile prep and drape at the patient's face and abdomen.  This included the neck accordingly.,Two platysmal sling application and operating headlight were utilized.  Hemostasis was controlled with the pinpoint cautery along with suction Bovie cautery.,The first procedure was performed was that of a quadrilateral blepharoplasty.  Markers were applied to both upper lids in symmetrical fashion.  The skin was excised from the right upper lid first followed by appropriate muscle resection.  Minimal fat removed from the medial upper portion of the eyelid.  Hemostasis was controlled with the quadrilateral tip needle; closure with a running 7-0 nylon suture.  Attention was then turned to the lower lid.  A classic skin muscle flap was created accordingly.  Fat was resected from the middle, medial, and lateral quadrant.  The fat was allowed to open drain the arcus marginalis for appropriate contour.  Hemostasis was controlled with the pinpoint cautery accordingly.  Skin was redraped with a conservative amount resected.  Running closure with 7-0 nylon was accomplished without difficulty.  The exact same procedure was repeated on the left upper and lower lid.,After completion of this portion of the procedure, the lag lid was again placed in the eyes.  Eye mass was likewise clamped.  Attention was turned to her face with plans for cervical facial rhytidectomy portion of the procedure.  The right face was first operated.  It was injected with a 0.25% Marcaine 1:200,000 adrenaline.  A submental incision was created followed by suction lipectomy and very minimal amounts of ***** in 3 mm and 2-mm suction cannula.  She had minimal subcutaneous extra fat as noted.  Attention was then turned to the incision which was in the temporal hairline in curvilinear fashion following the pretragal incision to the postauricular sulcus and into and along the post-occipital hairline.  The flap was elevated without difficulty with various facelift scissors.  Hemostasis was controlled again with a pinpoint cautery as well as suction Bovie cautery.,The exact same elevation of skin flap was accomplished on the left face followed by the anterosuperior submental space with approximately 4-cm incision.  Rectus plication in the midline with a running 4-0 Mersilene was followed by some transaction of the platysma above the hairline with coagulation, cutting, and cautery.  The submental incision was closed with a running 7-0 nylon over 5-0 Monocryl.,Attention was then turned to closure of the bilateral facelift incisions after appropriate SMAS plication.  The left side of face was first closed followed by interrupted SMAS plication utilizing 4-0 wide Mersilene.  The skin was draped appropriately and appropriate tissue was resected.  A 7-mm 9-0 French drain was utilized accordingly prior to closure of the skin with interrupted 4-0 Monocryl in the post-occipital region followed by running 5-0 nylon in the postauricular surface.  Preauricular interrupted 5-0 Monocryl was followed by running 7-0 nylon.  The hairline temporal incision was closed with running 5-0 nylon.  The exact same closure was accomplished on the right side of the face with a same size 7-mm French drain.,The patient's dressing consisted of Adaptic Polysporin ointment followed by Kerlix wrap with a 3-inch Ace.,The lips and mouth were sterilely prepped and draped accordingly after application of the head drape dressing as described.  Suction lipectomy was followed in the abdomen with sterile conditions were prepped and draped accordingly.  Approximately 2.5 to 3 cc of autologous fat was injected into the upper lip of the remaining cutaneous line with blunt tip dissector after having washed the fat with saline accordingly.  Tuberculin syringes were utilized on the injection utilizing a larger blunt tip needle for the actual injection procedure.  The incision site was closed with 7-0 nylon.,The patient tolerated the procedure well and was transferred to the recovery room in stable condition with Foley catheter in position.,The patient will be admitted for overnight short stay through the cosmetic package procedure.  She will be discharged in the morning.,Estimated blood loss was less than 75 cc.  No complications noted, and the patient tolerated the procedure well.\",\n          \"physical medicine - rehab, emg, nerve conduction study, nerve conduction studies, needle emg, electrical study, neuropathy, ulnar neuropathy, median neuropathy, severely attenuated evoked response, normal evoked response amplitude, attenuated evoked response amplitude, median motor distal latency, motor distal latency, abductor pollicis, pollicis brevis, dorsal interosseous, carpal tunnel, conduction, emg/nerve, needle,NERVE CONDUCTION STUDIES:,  Bilateral ulnar sensory responses are absent.  Bilateral median sensory distal latencies are prolonged with a severely attenuated evoked response amplitude.  The left radial sensory response is normal and robust.  Left sural response is absent.  Left median motor distal latency is prolonged with attenuated evoked response amplitude.  Conduction velocity across the forearm is mildly slowed.  Right median motor distal latency is prolonged with a normal evoked response amplitude and conduction velocity.  The left ulnar motor distal latency is prolonged with a severely attenuated evoked response amplitude both below and above the elbow.  Conduction velocities across the forearm and across the elbow are prolonged.  Conduction velocity proximal to the elbow is normal.  The right median motor distal latency is normal with normal evoked response amplitudes at the wrist with a normal evoked response amplitude at the wrist.  There is mild diminution of response around the elbow.  Conduction velocity slows across the elbow.  The left common peroneal motor distal latency evoked response amplitude is normal with slowed conduction velocity across the calf and across the fibula head.  F-waves are prolonged.,NEEDLE EMG: , Needle EMG was performed on the left arm and lumbosacral and cervical paraspinal muscles as well as middle thoracic muscles using a disposable concentric needle.  It revealed spontaneous activity in lower cervical paraspinals, left abductor pollicis brevis, and first dorsal interosseous muscles.  There were signs of chronic reinnervation in triceps, extensor digitorum communis, flexor pollicis longus as well first dorsal interosseous and abductor pollicis brevis muscles.,IMPRESSION: , This electrical study is abnormal.  It reveals the following:,1.  A sensory motor length-dependent neuropathy consistent with diabetes.,2.  A severe left ulnar neuropathy.  This is probably at the elbow, although definitive localization cannot be made.,3.  Moderate-to-severe left median neuropathy.  This is also probably at the carpal tunnel, although definitive localization cannot be made.,4.  Right ulnar neuropathy at the elbow, mild.,5.  Right median neuropathy at the wrist consistent with carpal tunnel syndrome, moderate.,6.  A left C8 radiculopathy (double crush syndrome).,7.  There is no evidence for thoracic radiculitis.,The patient has made very good response with respect to his abdominal pain since starting Neurontin.  He still has mild allodynia and is waiting for authorization to get insurance coverage for his Lidoderm patch.  He is still scheduled for MRI of C-spine and T-spine.  I will see him in followup after the above scans.\",\n          \"hematology - oncology, monitored anesthesia care, elliptical incision, squamous cell carcinoma site, squamous cell carcinoma, squamous cell, excision, squamous, carcinoma PREOPERATIVE DIAGNOSIS: , Squamous cell carcinoma on the right hand, incompletely excised.,POSTOPERATIVE DIAGNOSIS: , Squamous cell carcinoma on the right hand, incompletely excised.,NAME OF OPERATION: , Re-excision of squamous cell carcinoma site, right hand.,ANESTHESIA:,  Local with monitored anesthesia care.,INDICATIONS:,  Patient, 72,  status post excision of squamous cell carcinoma on the dorsum of the right hand at the base of the thumb.  The deep margin was positive.  Other margins were clear.  He was brought back for re-excision.,PROCEDURE:,  The patient was brought to the operating room and placed in the supine position.  He was given intravenous sedation.  The right hand was prepped and draped in the usual sterile fashion.  Three cubic centimeters of 1% Xylocaine mixed 50/50 with 0.5% Marcaine with epinephrine was instilled with local anesthetic around the site of the excision, and the site of the cancer was re-excised with an elliptical incision down to the extensor tendon sheath.  The tissue was passed off the field as a specimen.,The wound was irrigated with warm normal saline.  Hemostasis was assured with the electrocautery.  The wound was closed with running 3-0 nylon without complication.  The patient tolerated the procedure well and was taken to the recovery room in stable condition after a sterile dressing was applied.\"\n        ],\n        \"num_unique_values\": 81,\n        \"semantic_type\": \"\",\n        \"description\": \"\"\n      }\n    },\n    {\n      \"column\": \"list\",\n      \"properties\": {\n        \"dtype\": \"number\",\n        \"std\": 6,\n        \"min\": 1,\n        \"max\": 25,\n        \"samples\": [\n          8,\n          22,\n          9\n        ],\n        \"num_unique_values\": 22,\n        \"semantic_type\": \"\",\n        \"description\": \"\"\n      }\n    }\n  ]\n}"
            }
          },
          "metadata": {},
          "execution_count": 61
        }
      ],
      "source": [
        "val"
      ]
    },
    {
      "cell_type": "code",
      "execution_count": null,
      "metadata": {
        "id": "ptl5okydZx7J"
      },
      "outputs": [],
      "source": [
        "MAX_LEN = 512\n",
        "TRAIN_BATCH_SIZE = 8\n",
        "VALID_BATCH_SIZE = 4\n",
        "TEST_BATCH_SIZE = 4\n",
        "EPOCHS = 4\n",
        "LEARNING_RATE = 1e-05\n",
        "tokenizer = RobertaTokenizer.from_pretrained('roberta-base',cache_dir='./')"
      ]
    },
    {
      "cell_type": "code",
      "execution_count": null,
      "metadata": {
        "id": "UtuMo0M6e-gf"
      },
      "outputs": [],
      "source": []
    },
    {
      "cell_type": "code",
      "execution_count": null,
      "metadata": {
        "colab": {
          "base_uri": "https://localhost:8080/"
        },
        "id": "pd0Kskx2lv8E",
        "outputId": "0d3f1947-7228-463a-8c83-514b38184c59"
      },
      "outputs": [
        {
          "output_type": "execute_result",
          "data": {
            "text/plain": [
              "{'input_ids': [0, 3592, 2], 'attention_mask': [1, 1, 1]}"
            ]
          },
          "metadata": {},
          "execution_count": 44
        }
      ],
      "source": [
        "tokenizer(\"hi\")"
      ]
    },
    {
      "cell_type": "code",
      "execution_count": null,
      "metadata": {
        "id": "g-J7iHZAZx7K"
      },
      "outputs": [],
      "source": [
        "class CustomDataset(Dataset):\n",
        "\n",
        "    def __init__(self, dataframe, tokenizer, max_len):\n",
        "        self.tokenizer = tokenizer\n",
        "        self.data = dataframe\n",
        "        self.comment_text = self.data['transcription']\n",
        "        # print(self.comment_text[1332])\n",
        "        self.targets = self.data['list']\n",
        "        self.max_len = max_len\n",
        "\n",
        "    def __len__(self):\n",
        "        return len(self.comment_text)\n",
        "\n",
        "    def __getitem__(self, index):\n",
        "        comment_text = str(self.comment_text[index])\n",
        "        comment_text = \" \".join(comment_text.split())\n",
        "\n",
        "        inputs = self.tokenizer(\n",
        "            comment_text,\n",
        "            padding='max_length',\n",
        "            max_length=self.max_len,\n",
        "            truncation=True,\n",
        "            return_token_type_ids=True\n",
        "\n",
        "        )\n",
        "        ids = inputs['input_ids']\n",
        "        mask = inputs['attention_mask']\n",
        "        # token_type_ids = inputs[\"token_type_ids\"]\n",
        "\n",
        "\n",
        "        return {\n",
        "            'ids': torch.tensor(ids, dtype=torch.long),\n",
        "            'mask': torch.tensor(mask, dtype=torch.long),\n",
        "            # 'token_type_ids': torch.tensor(token_type_ids, dtype=torch.long),\n",
        "            'targets': torch.tensor(self.targets[index], dtype=torch.float)\n",
        "        }"
      ]
    },
    {
      "cell_type": "code",
      "execution_count": null,
      "metadata": {
        "id": "wZleKEzNDQdB"
      },
      "outputs": [],
      "source": []
    },
    {
      "cell_type": "code",
      "execution_count": null,
      "metadata": {
        "id": "TfjF-cTZZx7L"
      },
      "outputs": [],
      "source": [
        "train_params = {'batch_size': TRAIN_BATCH_SIZE,\n",
        "                'shuffle': True,\n",
        "                'num_workers': 0\n",
        "                }\n",
        "\n",
        "test_params = {'batch_size': TEST_BATCH_SIZE,\n",
        "                'shuffle': True,\n",
        "                'num_workers': 0\n",
        "                }\n",
        "\n",
        "\n",
        "val_params = {'batch_size': VALID_BATCH_SIZE,\n",
        "                'shuffle': True,\n",
        "                'num_workers': 0\n",
        "                }\n"
      ]
    },
    {
      "cell_type": "code",
      "execution_count": null,
      "metadata": {
        "id": "AFaYC09-Zx7L"
      },
      "outputs": [],
      "source": [
        "def load_data(train,test,val):\n",
        "\n",
        "    training_set = CustomDataset(train, tokenizer, MAX_LEN)\n",
        "    testing_set = CustomDataset(test, tokenizer, MAX_LEN)\n",
        "    val_set = CustomDataset(val, tokenizer, MAX_LEN)\n",
        "\n",
        "    training_loader = DataLoader(training_set, **train_params)\n",
        "    testing_loader = DataLoader(testing_set, **test_params)\n",
        "    val_loader = DataLoader(val_set, **test_params)\n",
        "\n",
        "    return training_loader,testing_loader,val_loader\n"
      ]
    },
    {
      "cell_type": "code",
      "execution_count": null,
      "metadata": {
        "id": "9jopH06GZx7L"
      },
      "outputs": [],
      "source": [
        "train_loader,test_loader,val_loader = load_data(train,test,val)"
      ]
    },
    {
      "cell_type": "code",
      "execution_count": null,
      "metadata": {
        "colab": {
          "base_uri": "https://localhost:8080/",
          "height": 35
        },
        "id": "kThRxDBVZx7L",
        "outputId": "c5745f8b-819c-49cf-c177-ccfdefa074ab"
      },
      "outputs": [
        {
          "output_type": "execute_result",
          "data": {
            "text/plain": [
              "'cuda'"
            ],
            "application/vnd.google.colaboratory.intrinsic+json": {
              "type": "string"
            }
          },
          "metadata": {},
          "execution_count": 67
        }
      ],
      "source": [
        "from torch import cuda\n",
        "device = 'cuda' if cuda.is_available() else 'cpu'\n",
        "device"
      ]
    },
    {
      "cell_type": "code",
      "execution_count": null,
      "metadata": {
        "colab": {
          "base_uri": "https://localhost:8080/"
        },
        "id": "-xnxbH4kZx7M",
        "outputId": "76379c7a-a379-4b7d-9664-6a343982325e"
      },
      "outputs": [
        {
          "output_type": "stream",
          "name": "stderr",
          "text": [
            "Some weights of RobertaModel were not initialized from the model checkpoint at roberta-base and are newly initialized: ['roberta.pooler.dense.weight', 'roberta.pooler.dense.bias']\n",
            "You should probably TRAIN this model on a down-stream task to be able to use it for predictions and inference.\n"
          ]
        },
        {
          "output_type": "execute_result",
          "data": {
            "text/plain": [
              "RoBERTClass(\n",
              "  (l1): RobertaModel(\n",
              "    (embeddings): RobertaEmbeddings(\n",
              "      (word_embeddings): Embedding(50265, 768, padding_idx=1)\n",
              "      (position_embeddings): Embedding(514, 768, padding_idx=1)\n",
              "      (token_type_embeddings): Embedding(1, 768)\n",
              "      (LayerNorm): LayerNorm((768,), eps=1e-05, elementwise_affine=True)\n",
              "      (dropout): Dropout(p=0.1, inplace=False)\n",
              "    )\n",
              "    (encoder): RobertaEncoder(\n",
              "      (layer): ModuleList(\n",
              "        (0-11): 12 x RobertaLayer(\n",
              "          (attention): RobertaAttention(\n",
              "            (self): RobertaSelfAttention(\n",
              "              (query): Linear(in_features=768, out_features=768, bias=True)\n",
              "              (key): Linear(in_features=768, out_features=768, bias=True)\n",
              "              (value): Linear(in_features=768, out_features=768, bias=True)\n",
              "              (dropout): Dropout(p=0.1, inplace=False)\n",
              "            )\n",
              "            (output): RobertaSelfOutput(\n",
              "              (dense): Linear(in_features=768, out_features=768, bias=True)\n",
              "              (LayerNorm): LayerNorm((768,), eps=1e-05, elementwise_affine=True)\n",
              "              (dropout): Dropout(p=0.1, inplace=False)\n",
              "            )\n",
              "          )\n",
              "          (intermediate): RobertaIntermediate(\n",
              "            (dense): Linear(in_features=768, out_features=3072, bias=True)\n",
              "            (intermediate_act_fn): GELUActivation()\n",
              "          )\n",
              "          (output): RobertaOutput(\n",
              "            (dense): Linear(in_features=3072, out_features=768, bias=True)\n",
              "            (LayerNorm): LayerNorm((768,), eps=1e-05, elementwise_affine=True)\n",
              "            (dropout): Dropout(p=0.1, inplace=False)\n",
              "          )\n",
              "        )\n",
              "      )\n",
              "    )\n",
              "    (pooler): RobertaPooler(\n",
              "      (dense): Linear(in_features=768, out_features=768, bias=True)\n",
              "      (activation): Tanh()\n",
              "    )\n",
              "  )\n",
              "  (l3): Linear(in_features=768, out_features=27, bias=True)\n",
              ")"
            ]
          },
          "metadata": {},
          "execution_count": 68
        }
      ],
      "source": [
        "class RoBERTClass(torch.nn.Module):\n",
        "    def __init__(self):\n",
        "        super(RoBERTClass, self).__init__()\n",
        "        self.l1 = transformers.RobertaModel.from_pretrained('roberta-base',cache_dir = './model/')\n",
        "        # self.l2 = torch.nn.Dropout(0.3)\n",
        "        self.l3 = torch.nn.Linear(768, 27)\n",
        "\n",
        "    def forward(self, ids, mask):\n",
        "        _, output_1= self.l1(ids, attention_mask = mask, return_dict=False)\n",
        "        # output_2 = self.l2(output_1)\n",
        "        output = self.l3(output_1)\n",
        "        return output\n",
        "\n",
        "model = RoBERTClass()\n",
        "model.to(device)"
      ]
    },
    {
      "cell_type": "code",
      "execution_count": null,
      "metadata": {
        "id": "YC_hzDXdZx7M"
      },
      "outputs": [],
      "source": [
        "optimizer = torch.optim.Adam(params =  model.parameters(), lr=LEARNING_RATE)"
      ]
    },
    {
      "cell_type": "code",
      "execution_count": null,
      "metadata": {
        "id": "QCrgguMUZx7M"
      },
      "outputs": [],
      "source": [
        "def loss_fn(outputs, targets):\n",
        "    return torch.nn.CrossEntropyLoss()(outputs, targets)"
      ]
    },
    {
      "cell_type": "code",
      "execution_count": null,
      "metadata": {
        "id": "p6-5LAe2Zx7M"
      },
      "outputs": [],
      "source": [
        "def train(epoch):\n",
        "    model.train()\n",
        "    for _,data in enumerate(train_loader, 0):\n",
        "        ids = data['ids'].to(device, dtype = torch.long)\n",
        "        mask = data['mask'].to(device, dtype = torch.long)\n",
        "        # token_type_ids = data['token_type_ids'].to(device, dtype = torch.long)\n",
        "        targets = data['targets'].to(device, dtype = torch.long)\n",
        "\n",
        "        outputs = model(ids, mask)\n",
        "\n",
        "        loss = loss_fn(outputs, targets)\n",
        "        loss.backward()\n",
        "        optimizer.step()\n",
        "        optimizer.zero_grad()\n",
        "\n",
        "        if _%100==0:\n",
        "            print(f'Epoch: {epoch},Batch: {_} Loss:  {loss.item()}')\n",
        "\n"
      ]
    },
    {
      "cell_type": "code",
      "execution_count": null,
      "metadata": {
        "colab": {
          "base_uri": "https://localhost:8080/"
        },
        "id": "FsCA_NIpZx7M",
        "outputId": "eec4a321-b672-49a0-c4b8-6b14c420e11d"
      },
      "outputs": [
        {
          "output_type": "stream",
          "name": "stdout",
          "text": [
            "Epoch: 0,Batch: 0 Loss:  3.286590576171875\n",
            "Epoch: 1,Batch: 0 Loss:  2.746624231338501\n",
            "Epoch: 2,Batch: 0 Loss:  2.3070240020751953\n",
            "Epoch: 3,Batch: 0 Loss:  0.6503286957740784\n"
          ]
        }
      ],
      "source": [
        "for epoch in range(EPOCHS):\n",
        "    train(epoch)"
      ]
    },
    {
      "cell_type": "code",
      "execution_count": null,
      "metadata": {
        "id": "hMfkxQxGdHPt"
      },
      "outputs": [],
      "source": [
        "def validation():\n",
        "    model.eval()\n",
        "    fin_targets=[]\n",
        "    fin_outputs=[]\n",
        "    with torch.no_grad():\n",
        "        for _, data in enumerate(val_loader, 0):\n",
        "            ids = data['ids'].to(device, dtype = torch.long)\n",
        "            mask = data['mask'].to(device, dtype = torch.long)\n",
        "            # token_type_ids = data['token_type_ids'].to(device, dtype = torch.long)\n",
        "            targets = data['targets'].to(device, dtype = torch.long)\n",
        "            outputs = model(ids, mask)\n",
        "            fin_targets.extend(targets.cpu().detach().numpy().tolist())\n",
        "            fin_outputs.extend(torch.sigmoid(outputs).cpu().detach().numpy().tolist())\n",
        "    return fin_outputs, fin_targets"
      ]
    },
    {
      "cell_type": "code",
      "source": [],
      "metadata": {
        "id": "-8fTE5KUMOmF"
      },
      "execution_count": null,
      "outputs": []
    },
    {
      "cell_type": "code",
      "execution_count": null,
      "metadata": {
        "colab": {
          "base_uri": "https://localhost:8080/"
        },
        "id": "yPl2IVHxddTa",
        "outputId": "7cc8b08b-6a2f-4552-9198-e412f0410146"
      },
      "outputs": [
        {
          "output_type": "stream",
          "name": "stdout",
          "text": [
            "accuracy 0.9753086419753086\n",
            "f1_Score 0.9753086419753086\n",
            "accuracy 0.9753086419753086\n",
            "f1_Score 0.9753086419753086\n",
            "accuracy 0.9753086419753086\n",
            "f1_Score 0.9753086419753086\n",
            "accuracy 0.9753086419753086\n",
            "f1_Score 0.9753086419753086\n"
          ]
        }
      ],
      "source": [
        "for epoch in range(EPOCHS):\n",
        "\n",
        "    outputs, targets = validation()\n",
        "    out_array = np.array(outputs)\n",
        "    tar_array = np.array(targets)\n",
        "\n",
        "    max_tar_indices = np.zeros_like(out_array)\n",
        "    max_tar_indices[np.arange(tar_array.shape[0]),tar_array] = 1\n",
        "    max_tar_indices = max_tar_indices.tolist()\n",
        "\n",
        "    max_value_indices = np.zeros_like(out_array)\n",
        "    max_indices = np.argmax(out_array, axis=1)\n",
        "    max_value_indices[np.arange(out_array.shape[0]), max_indices] = 1\n",
        "    max_value_indices = max_value_indices.tolist()\n",
        "\n",
        "\n",
        "    acuracy = sum(max_indices == tar_array)/len(tar_array)\n",
        "    print(\"accuracy\",acuracy)\n",
        "\n",
        "    # f1_score_None = metrics.f1_score(max_tar_indices,max_value_indices,average=None)\n",
        "    f1_score = metrics.f1_score(max_tar_indices,max_value_indices,average=\"micro\")\n",
        "\n",
        "    print(\"f1_Score\",f1_score)"
      ]
    },
    {
      "cell_type": "code",
      "source": [],
      "metadata": {
        "id": "qz4Aq-1eNeNa"
      },
      "execution_count": null,
      "outputs": []
    },
    {
      "cell_type": "code",
      "source": [],
      "metadata": {
        "id": "S8kLXKjKPibk"
      },
      "execution_count": null,
      "outputs": []
    },
    {
      "cell_type": "code",
      "source": [],
      "metadata": {
        "id": "VqYJaWrnPVc-"
      },
      "execution_count": null,
      "outputs": []
    }
  ],
  "metadata": {
    "accelerator": "GPU",
    "colab": {
      "gpuType": "T4",
      "provenance": [],
      "toc_visible": true
    },
    "kernelspec": {
      "display_name": "Python 3",
      "name": "python3"
    },
    "language_info": {
      "codemirror_mode": {
        "name": "ipython",
        "version": 3
      },
      "file_extension": ".py",
      "mimetype": "text/x-python",
      "name": "python",
      "nbconvert_exporter": "python",
      "pygments_lexer": "ipython3",
      "version": "3.9.0"
    }
  },
  "nbformat": 4,
  "nbformat_minor": 0
}